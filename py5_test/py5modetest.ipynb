{
 "cells": [
  {
   "cell_type": "code",
   "execution_count": 1,
   "id": "4f59a986-aa30-49ca-8642-4b0563363031",
   "metadata": {},
   "outputs": [],
   "source": [
    "%gui osx"
   ]
  },
  {
   "cell_type": "code",
   "execution_count": 2,
   "id": "38f3123b-9089-49f0-b640-ffd2411d9479",
   "metadata": {},
   "outputs": [],
   "source": [
    "import py5\n",
    "\n",
    "def setup():\n",
    "    py5.size(400, 400)\n",
    "    py5.rect_mode(py5.CENTER)"
   ]
  },
  {
   "cell_type": "code",
   "execution_count": 3,
   "id": "999800b8-cc29-4caf-b711-bc7d8ef0adc9",
   "metadata": {},
   "outputs": [],
   "source": [
    "def draw():\n",
    "    py5.fill(py5.color(py5.random_int(5, 250), py5.random_int(5, 250), py5.random_int(5, 250)))\n",
    "    py5.square(py5.mouse_x, py5.mouse_y, 20)"
   ]
  },
  {
   "cell_type": "code",
   "execution_count": 4,
   "id": "f9004fc4-0073-44e6-98cc-9d1cf9cf4d60",
   "metadata": {},
   "outputs": [],
   "source": [
    "py5.run_sketch()"
   ]
  }
 ],
 "metadata": {
  "kernelspec": {
   "display_name": "Python 3 (ipykernel)",
   "language": "python",
   "name": "python3"
  },
  "language_info": {
   "codemirror_mode": {
    "name": "ipython",
    "version": 3
   },
   "file_extension": ".py",
   "mimetype": "text/x-python",
   "name": "python",
   "nbconvert_exporter": "python",
   "pygments_lexer": "ipython3",
   "version": "3.11.9"
  }
 },
 "nbformat": 4,
 "nbformat_minor": 5
}
